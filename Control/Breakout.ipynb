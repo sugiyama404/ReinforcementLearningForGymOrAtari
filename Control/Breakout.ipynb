{
  "nbformat": 4,
  "nbformat_minor": 0,
  "metadata": {
    "colab": {
      "name": "Breakout.ipynb",
      "provenance": [],
      "collapsed_sections": [],
      "machine_shape": "hm",
      "authorship_tag": "ABX9TyNm2bi++IkOQSbtXR9P6za+",
      "include_colab_link": true
    },
    "kernelspec": {
      "name": "python3",
      "display_name": "Python 3"
    },
    "language_info": {
      "name": "python"
    },
    "accelerator": "GPU"
  },
  "cells": [
    {
      "cell_type": "markdown",
      "metadata": {
        "id": "view-in-github",
        "colab_type": "text"
      },
      "source": [
        "<a href=\"https://colab.research.google.com/github/sugiyama404/ReinforcementLearningForGymOrAtari/blob/main/Control/Breakout.ipynb\" target=\"_parent\"><img src=\"https://colab.research.google.com/assets/colab-badge.svg\" alt=\"Open In Colab\"/></a>"
      ]
    },
    {
      "cell_type": "code",
      "metadata": {
        "id": "c8bCDqyTz9Wp"
      },
      "source": [
        "!pip uninstall gym -y  > /dev/null 2>&1 # gym 0.17.3 was broken 2021/11/08\n",
        "!pip install gym gym[atari,accept-rom-license] > /dev/null 2>&1"
      ],
      "execution_count": 1,
      "outputs": []
    },
    {
      "cell_type": "code",
      "metadata": {
        "id": "Cck23Zda0D63",
        "colab": {
          "base_uri": "https://localhost:8080/"
        },
        "outputId": "3000224e-b920-4787-b728-4624d3bd79bd"
      },
      "source": [
        "import gym\n",
        "from gym import wrappers\n",
        "\n",
        "import numpy as np\n",
        "import random\n",
        "\n",
        "\n",
        "!apt update  > /dev/null 2>&1\n",
        "!apt install xvfb  > /dev/null 2>&1\n",
        "!pip install pyvirtualdisplay  > /dev/null 2>&1\n",
        "from pyvirtualdisplay import Display\n",
        "d = Display()\n",
        "d.start()"
      ],
      "execution_count": 2,
      "outputs": [
        {
          "output_type": "stream",
          "name": "stderr",
          "text": [
            "/usr/local/lib/python3.7/dist-packages/ale_py/roms/utils.py:90: DeprecationWarning: SelectableGroups dict interface is deprecated. Use select.\n",
            "  for external in metadata.entry_points().get(self.group, []):\n"
          ]
        },
        {
          "output_type": "execute_result",
          "data": {
            "text/plain": [
              "<pyvirtualdisplay.display.Display at 0x7ff6057cb2d0>"
            ]
          },
          "metadata": {},
          "execution_count": 2
        }
      ]
    },
    {
      "cell_type": "code",
      "metadata": {
        "colab": {
          "base_uri": "https://localhost:8080/"
        },
        "id": "Etb_iBrX0Dhr",
        "outputId": "3602379c-a422-45a2-b836-b9acf0499c73"
      },
      "source": [
        "gym.logger.set_level(40)\n",
        "env = gym.make('Breakout-v0')\n",
        "\n",
        "env = wrappers.Monitor(env, './', force=True, video_callable=(lambda ep: ep % 10 == 0))\n",
        "episodes = 50\n",
        "for episode in range(1, episodes+1):\n",
        "    state = env.reset()\n",
        "    done = False\n",
        "    score = 0 \n",
        "    \n",
        "    while not done:\n",
        "        #env.render() # 210,160,3\n",
        "        action = np.random.randint(4)\n",
        "        n_state, reward, done, info = env.step(action) # n_state.shape: (96, 96, 3)\n",
        "        score+=reward\n",
        "    print('Episode:{} Score:{}'.format(episode, score))\n",
        "env.close()"
      ],
      "execution_count": 3,
      "outputs": [
        {
          "output_type": "stream",
          "name": "stdout",
          "text": [
            "Episode:1 Score:2.0\n",
            "Episode:2 Score:0.0\n",
            "Episode:3 Score:2.0\n",
            "Episode:4 Score:2.0\n",
            "Episode:5 Score:1.0\n",
            "Episode:6 Score:1.0\n",
            "Episode:7 Score:0.0\n",
            "Episode:8 Score:0.0\n",
            "Episode:9 Score:0.0\n",
            "Episode:10 Score:4.0\n",
            "Episode:11 Score:2.0\n",
            "Episode:12 Score:0.0\n",
            "Episode:13 Score:3.0\n",
            "Episode:14 Score:0.0\n",
            "Episode:15 Score:0.0\n",
            "Episode:16 Score:0.0\n",
            "Episode:17 Score:0.0\n",
            "Episode:18 Score:1.0\n",
            "Episode:19 Score:1.0\n",
            "Episode:20 Score:2.0\n",
            "Episode:21 Score:2.0\n",
            "Episode:22 Score:0.0\n",
            "Episode:23 Score:3.0\n",
            "Episode:24 Score:1.0\n",
            "Episode:25 Score:1.0\n",
            "Episode:26 Score:3.0\n",
            "Episode:27 Score:1.0\n",
            "Episode:28 Score:1.0\n",
            "Episode:29 Score:2.0\n",
            "Episode:30 Score:0.0\n",
            "Episode:31 Score:2.0\n",
            "Episode:32 Score:0.0\n",
            "Episode:33 Score:2.0\n",
            "Episode:34 Score:3.0\n",
            "Episode:35 Score:3.0\n",
            "Episode:36 Score:1.0\n",
            "Episode:37 Score:4.0\n",
            "Episode:38 Score:0.0\n",
            "Episode:39 Score:4.0\n",
            "Episode:40 Score:2.0\n",
            "Episode:41 Score:1.0\n",
            "Episode:42 Score:2.0\n",
            "Episode:43 Score:0.0\n",
            "Episode:44 Score:0.0\n",
            "Episode:45 Score:3.0\n",
            "Episode:46 Score:2.0\n",
            "Episode:47 Score:0.0\n",
            "Episode:48 Score:0.0\n",
            "Episode:49 Score:0.0\n",
            "Episode:50 Score:4.0\n"
          ]
        }
      ]
    }
  ]
}