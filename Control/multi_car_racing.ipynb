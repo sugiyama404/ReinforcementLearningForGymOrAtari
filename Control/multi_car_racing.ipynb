{
  "nbformat": 4,
  "nbformat_minor": 0,
  "metadata": {
    "colab": {
      "name": "multi_car_racing.ipynb",
      "provenance": [],
      "collapsed_sections": [],
      "machine_shape": "hm",
      "authorship_tag": "ABX9TyMBA20WgYuzbR8YQWb4xYjz",
      "include_colab_link": true
    },
    "kernelspec": {
      "name": "python3",
      "display_name": "Python 3"
    },
    "language_info": {
      "name": "python"
    },
    "accelerator": "GPU"
  },
  "cells": [
    {
      "cell_type": "markdown",
      "metadata": {
        "id": "view-in-github",
        "colab_type": "text"
      },
      "source": [
        "<a href=\"https://colab.research.google.com/github/sugiyama404/ReinforcementLearningForGymOrAtari/blob/main/Control/multi_car_racing.ipynb\" target=\"_parent\"><img src=\"https://colab.research.google.com/assets/colab-badge.svg\" alt=\"Open In Colab\"/></a>"
      ]
    },
    {
      "cell_type": "code",
      "metadata": {
        "colab": {
          "base_uri": "https://localhost:8080/"
        },
        "id": "H-tZq7vEib8F",
        "outputId": "c8550e33-b851-4a17-bada-56b21d0213f9"
      },
      "source": [
        "!git clone https://github.com/igilitschenski/multi_car_racing.git\n",
        "%cd multi_car_racing\n",
        "!pip uninstall -y imgaug & install imgaug=0.2.7\n",
        "!pip install -e .\n",
        "!python -m gym_multi_car_racing.multi_car_racing\n",
        "!pip uninstall gym -y > /dev/null 2>&1 # gym 0.17.3 was broken 2021/11/08\n",
        "!pip install gym > /dev/null 2>&1"
      ],
      "execution_count": 1,
      "outputs": [
        {
          "output_type": "stream",
          "name": "stdout",
          "text": [
            "Cloning into 'multi_car_racing'...\n",
            "remote: Enumerating objects: 28, done.\u001b[K\n",
            "remote: Counting objects: 100% (28/28), done.\u001b[K\n",
            "remote: Compressing objects: 100% (24/24), done.\u001b[K\n",
            "remote: Total 28 (delta 12), reused 14 (delta 3), pack-reused 0\u001b[K\n",
            "Unpacking objects: 100% (28/28), done.\n",
            "/content/multi_car_racing\n",
            "install: missing destination file operand after 'imgaug=0.2.7'\n",
            "Try 'install --help' for more information.\n",
            "Found existing installation: imgaug 0.2.9\n",
            "Uninstalling imgaug-0.2.9:\n",
            "  Successfully uninstalled imgaug-0.2.9\n",
            "Obtaining file:///content/multi_car_racing\n",
            "Collecting box2d-py~=2.3.5\n",
            "  Downloading box2d_py-2.3.8-cp37-cp37m-manylinux1_x86_64.whl (448 kB)\n",
            "\u001b[K     |████████████████████████████████| 448 kB 5.0 MB/s \n",
            "\u001b[?25hCollecting shapely~=1.7.0\n",
            "  Downloading Shapely-1.7.1-cp37-cp37m-manylinux1_x86_64.whl (1.0 MB)\n",
            "\u001b[K     |████████████████████████████████| 1.0 MB 60.0 MB/s \n",
            "\u001b[?25hRequirement already satisfied: numpy>=1.10.4 in /usr/local/lib/python3.7/dist-packages (from gym-multi-car-racing==0.0.1) (1.19.5)\n",
            "Requirement already satisfied: gym~=0.17.2 in /usr/local/lib/python3.7/dist-packages (from gym-multi-car-racing==0.0.1) (0.17.3)\n",
            "Requirement already satisfied: cloudpickle<1.7.0,>=1.2.0 in /usr/local/lib/python3.7/dist-packages (from gym~=0.17.2->gym-multi-car-racing==0.0.1) (1.3.0)\n",
            "Requirement already satisfied: pyglet<=1.5.0,>=1.4.0 in /usr/local/lib/python3.7/dist-packages (from gym~=0.17.2->gym-multi-car-racing==0.0.1) (1.5.0)\n",
            "Requirement already satisfied: scipy in /usr/local/lib/python3.7/dist-packages (from gym~=0.17.2->gym-multi-car-racing==0.0.1) (1.4.1)\n",
            "Requirement already satisfied: future in /usr/local/lib/python3.7/dist-packages (from pyglet<=1.5.0,>=1.4.0->gym~=0.17.2->gym-multi-car-racing==0.0.1) (0.16.0)\n",
            "Installing collected packages: shapely, box2d-py, gym-multi-car-racing\n",
            "  Attempting uninstall: shapely\n",
            "    Found existing installation: Shapely 1.8.0\n",
            "    Uninstalling Shapely-1.8.0:\n",
            "      Successfully uninstalled Shapely-1.8.0\n",
            "  Running setup.py develop for gym-multi-car-racing\n",
            "Successfully installed box2d-py-2.3.8 gym-multi-car-racing-0.0.1 shapely-1.7.1\n",
            "/usr/lib/python3.7/runpy.py:125: RuntimeWarning: 'gym_multi_car_racing.multi_car_racing' found in sys.modules after import of package 'gym_multi_car_racing', but prior to execution of 'gym_multi_car_racing.multi_car_racing'; this may result in unpredictable behaviour\n",
            "  warn(RuntimeWarning(msg))\n",
            "Traceback (most recent call last):\n",
            "  File \"/usr/lib/python3.7/runpy.py\", line 193, in _run_module_as_main\n",
            "    \"__main__\", mod_spec)\n",
            "  File \"/usr/lib/python3.7/runpy.py\", line 85, in _run_code\n",
            "    exec(code, run_globals)\n",
            "  File \"/content/multi_car_racing/gym_multi_car_racing/multi_car_racing.py\", line 678, in <module>\n",
            "    from pyglet.window import key\n",
            "  File \"/usr/local/lib/python3.7/dist-packages/pyglet/window/__init__.py\", line 1880, in <module>\n",
            "    gl._create_shadow_window()\n",
            "  File \"/usr/local/lib/python3.7/dist-packages/pyglet/gl/__init__.py\", line 220, in _create_shadow_window\n",
            "    _shadow_window = Window(width=1, height=1, visible=False)\n",
            "  File \"/usr/local/lib/python3.7/dist-packages/pyglet/window/xlib/__init__.py\", line 165, in __init__\n",
            "    super(XlibWindow, self).__init__(*args, **kwargs)\n",
            "  File \"/usr/local/lib/python3.7/dist-packages/pyglet/window/__init__.py\", line 570, in __init__\n",
            "    display = pyglet.canvas.get_display()\n",
            "  File \"/usr/local/lib/python3.7/dist-packages/pyglet/canvas/__init__.py\", line 94, in get_display\n",
            "    return Display()\n",
            "  File \"/usr/local/lib/python3.7/dist-packages/pyglet/canvas/xlib.py\", line 123, in __init__\n",
            "    raise NoSuchDisplayException('Cannot connect to \"%s\"' % name)\n",
            "pyglet.canvas.xlib.NoSuchDisplayException: Cannot connect to \"None\"\n"
          ]
        }
      ]
    },
    {
      "cell_type": "code",
      "metadata": {
        "id": "2WovRFTdlrVv"
      },
      "source": [
        "!apt update  > /dev/null 2>&1\n",
        "!apt install xvfb  > /dev/null 2>&1\n",
        "!pip install pyvirtualdisplay  > /dev/null 2>&1\n",
        "from pyvirtualdisplay import Display\n",
        "d = Display()\n",
        "d.start()\n",
        "\n",
        "import gym\n",
        "from gym import wrappers\n",
        "import gym_multi_car_racing\n",
        "import numpy as np"
      ],
      "execution_count": 2,
      "outputs": []
    },
    {
      "cell_type": "code",
      "metadata": {
        "id": "lldZZ5P_lVh3"
      },
      "source": [
        "class FlatMultiDisplayWrapper(gym.Wrapper):\n",
        "    def __init__(self, env, nrows=1, ncols=1, empty_cell=0):\n",
        "        super().__init__(env)\n",
        "        self.nrows = nrows\n",
        "        self.ncols = ncols\n",
        "        self.empty_cell = empty_cell\n",
        "\n",
        "    def render(self, mode=\"human\", **kwargs):\n",
        "        stack_images = super().render(mode, **kwargs)\n",
        "        nstack = stack_images.shape[0]\n",
        "        frame_shape = stack_images.shape[1:]\n",
        "\n",
        "        if len(frame_shape) >= 2:\n",
        "            self.flat_shape = list(frame_shape)\n",
        "            self.flat_shape[0] = self.flat_shape[0]*self.nrows\n",
        "            self.flat_shape[1] = self.flat_shape[1]*self.ncols\n",
        "            frame = np.full(self.flat_shape, self.empty_cell, dtype=np.uint8)\n",
        "\n",
        "            for i in range(min(nstack, self.nrows*self.ncols)):\n",
        "                row = i // self.ncols\n",
        "                col = i % self.ncols\n",
        "                frame[row*frame_shape[0]:(row+1)*frame_shape[0],\n",
        "                      col*frame_shape[1]:(col+1)*frame_shape[1]] = stack_images[i]\n",
        "        else:\n",
        "            # たまに、空の画像を stack した画像が返ってくる。\n",
        "            frame = np.full(self.flat_shape, self.empty_cell, dtype=np.uint8)\n",
        "\n",
        "        return frame\n",
        "\n",
        "    def step(self, action):\n",
        "        obs, rew, done, info = super().step(action)\n",
        "        # Reward が gym.Env の仕様を満たしていないので変換する。元の値はinfoに入れておく\n",
        "        info[\"original_reward\"] = rew\n",
        "        return obs, rew.sum(), done, info"
      ],
      "execution_count": 3,
      "outputs": []
    },
    {
      "cell_type": "code",
      "metadata": {
        "colab": {
          "base_uri": "https://localhost:8080/"
        },
        "id": "z57dl85Eimft",
        "outputId": "d1f64e44-6cdd-4668-98f5-881d6e5018ad"
      },
      "source": [
        "actions = np.array([[ 0, 0, 0],  # [0]: straight\n",
        "                    [ 0, 1, 0],  # [1]: acceleration\n",
        "                    [ 0, 0, 1],  # [2]: decelerate\n",
        "                    [ 1, 0, 0],  # [3]: Turn right\n",
        "                    [-1, 0, 0]]) # [4]: Turn left\n",
        "\n",
        "env = gym.make(\"MultiCarRacing-v0\", num_agents=2)\n",
        "env = FlatMultiDisplayWrapper(env)\n",
        "env = wrappers.Monitor(env, './', force = True)\n",
        "obs = env.reset()\n",
        "done = False\n",
        "total_reward = 0\n",
        "\n",
        "while not done:\n",
        "    action = np.random.randint(5)\n",
        "    action = actions[action]\n",
        "    obs, reward, done, info = env.step([action,action])\n",
        "    total_reward += reward\n",
        "    env.render()\n",
        "\n",
        "print(\"individual scores:\", total_reward)"
      ],
      "execution_count": 5,
      "outputs": [
        {
          "output_type": "stream",
          "name": "stderr",
          "text": [
            "/usr/local/lib/python3.7/dist-packages/gym/spaces/box.py:74: UserWarning: \u001b[33mWARN: Box bound precision lowered by casting to float32\u001b[0m\n",
            "  \"Box bound precision lowered by casting to {}\".format(self.dtype)\n"
          ]
        },
        {
          "output_type": "stream",
          "name": "stdout",
          "text": [
            "Track generation: 1135..1423 -> 288-tiles track\n",
            "individual scores: -149.47735191637523\n"
          ]
        }
      ]
    }
  ]
}