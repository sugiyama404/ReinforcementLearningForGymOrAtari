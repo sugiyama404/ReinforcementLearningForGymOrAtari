{
  "nbformat": 4,
  "nbformat_minor": 0,
  "metadata": {
    "colab": {
      "name": "CarRacing.ipynb",
      "provenance": [],
      "collapsed_sections": [],
      "machine_shape": "hm",
      "authorship_tag": "ABX9TyNU5dfG3HocA+GYiDpvI8IJ",
      "include_colab_link": true
    },
    "kernelspec": {
      "name": "python3",
      "display_name": "Python 3"
    },
    "language_info": {
      "name": "python"
    },
    "accelerator": "GPU"
  },
  "cells": [
    {
      "cell_type": "markdown",
      "metadata": {
        "id": "view-in-github",
        "colab_type": "text"
      },
      "source": [
        "<a href=\"https://colab.research.google.com/github/sugiyama404/ReinforcementLearningForGymOrAtari/blob/main/Control/CarRacing.ipynb\" target=\"_parent\"><img src=\"https://colab.research.google.com/assets/colab-badge.svg\" alt=\"Open In Colab\"/></a>"
      ]
    },
    {
      "cell_type": "code",
      "metadata": {
        "id": "c8bCDqyTz9Wp"
      },
      "source": [
        "!pip install gym gym[box2d]  > /dev/null 2>&1"
      ],
      "execution_count": null,
      "outputs": []
    },
    {
      "cell_type": "code",
      "metadata": {
        "id": "Cck23Zda0D63",
        "colab": {
          "base_uri": "https://localhost:8080/"
        },
        "outputId": "2ebc0b17-05d5-41ec-bfbe-6dfa16effc4e"
      },
      "source": [
        "import gym\n",
        "from gym import wrappers\n",
        "\n",
        "import numpy as np\n",
        "import random\n",
        "\n",
        "\n",
        "!apt update  > /dev/null 2>&1\n",
        "!apt install xvfb  > /dev/null 2>&1\n",
        "!pip install pyvirtualdisplay  > /dev/null 2>&1\n",
        "from pyvirtualdisplay import Display\n",
        "d = Display()\n",
        "d.start()"
      ],
      "execution_count": null,
      "outputs": [
        {
          "output_type": "execute_result",
          "data": {
            "text/plain": [
              "<pyvirtualdisplay.display.Display at 0x7efcc5504110>"
            ]
          },
          "metadata": {},
          "execution_count": 2
        }
      ]
    },
    {
      "cell_type": "code",
      "metadata": {
        "colab": {
          "base_uri": "https://localhost:8080/"
        },
        "id": "Etb_iBrX0Dhr",
        "outputId": "00555b10-0303-4c17-bbc0-7f7eb0970fa1"
      },
      "source": [
        "gym.logger.set_level(40)\n",
        "env = gym.make('CarRacing-v0')\n",
        "\n",
        "env = wrappers.Monitor(env, './', force=True, video_callable=(lambda ep: ep % 10 == 0))\n",
        "episodes = 20\n",
        "actions = np.array([[ 0, 0, 0],  # [0]: straight\n",
        "                    [ 0, 1, 0],  # [1]: acceleration\n",
        "                    [ 0, 0, 1],  # [2]: decelerate\n",
        "                    [ 1, 0, 0],  # [3]: Turn right\n",
        "                    [-1, 0, 0]]) # [4]: Turn left\n",
        "for episode in range(1, episodes+1):\n",
        "    state = env.reset()\n",
        "    done = False\n",
        "    score = 0 \n",
        "    \n",
        "    while not done:\n",
        "        env.render()\n",
        "        #action = env.action_space.sample()\n",
        "        rand = np.random.randint(5)\n",
        "        action = actions[rand]\n",
        "        n_state, reward, done, info = env.step(action) # n_state.shape: (96, 96, 3)\n",
        "        score+=reward\n",
        "    print('Episode:{} Score:{}'.format(episode, score))\n",
        "env.close()"
      ],
      "execution_count": null,
      "outputs": [
        {
          "output_type": "stream",
          "name": "stderr",
          "text": [
            "/usr/local/lib/python3.7/dist-packages/gym/logger.py:30: UserWarning: \u001b[33mWARN: Box bound precision lowered by casting to float32\u001b[0m\n",
            "  warnings.warn(colorize('%s: %s'%('WARN', msg % args), 'yellow'))\n"
          ]
        },
        {
          "output_type": "stream",
          "name": "stdout",
          "text": [
            "Track generation: 1220..1529 -> 309-tiles track\n",
            "Episode:1 Score:-54.54545454545533\n",
            "Track generation: 1001..1262 -> 261-tiles track\n",
            "Episode:2 Score:-42.307692307692854\n",
            "Track generation: 1298..1626 -> 328-tiles track\n",
            "Episode:3 Score:-57.18654434250846\n",
            "Track generation: 1104..1384 -> 280-tiles track\n",
            "Episode:4 Score:-53.40501792114776\n",
            "Track generation: 1026..1292 -> 266-tiles track\n",
            "Episode:5 Score:-50.94339622641579\n",
            "Track generation: 1093..1377 -> 284-tiles track\n",
            "Episode:6 Score:-54.06360424028352\n",
            "Track generation: 1227..1538 -> 311-tiles track\n",
            "Episode:7 Score:-58.06451612903314\n",
            "Track generation: 1061..1332 -> 271-tiles track\n",
            "retry to generate track (normal if there are not manyinstances of this message)\n",
            "Track generation: 1093..1369 -> 276-tiles track\n",
            "Episode:8 Score:-49.09090909090979\n",
            "Track generation: 1088..1364 -> 276-tiles track\n",
            "Episode:9 Score:-45.4545454545461\n",
            "Track generation: 1192..1494 -> 302-tiles track\n",
            "Episode:10 Score:-60.132890365449335\n",
            "Track generation: 1172..1470 -> 298-tiles track\n",
            "Episode:11 Score:-59.59595959596046\n",
            "Track generation: 1163..1458 -> 295-tiles track\n",
            "Episode:12 Score:-55.782312925170885\n",
            "Track generation: 1036..1299 -> 263-tiles track\n",
            "Episode:13 Score:-54.19847328244361\n",
            "Track generation: 1384..1734 -> 350-tiles track\n",
            "Episode:14 Score:-65.616045845273\n",
            "Track generation: 1250..1574 -> 324-tiles track\n",
            "Episode:15 Score:-62.84829721362318\n",
            "Track generation: 1122..1407 -> 285-tiles track\n",
            "Episode:16 Score:-50.70422535211343\n",
            "Track generation: 1172..1469 -> 297-tiles track\n",
            "Episode:17 Score:-59.45945945946033\n",
            "Track generation: 1260..1579 -> 319-tiles track\n",
            "Episode:18 Score:-62.26415094339712\n",
            "Track generation: 1176..1484 -> 308-tiles track\n",
            "Episode:19 Score:-60.91205211726464\n",
            "Track generation: 1119..1403 -> 284-tiles track\n",
            "Episode:20 Score:-50.53003533568986\n"
          ]
        }
      ]
    }
  ]
}