{
  "nbformat": 4,
  "nbformat_minor": 0,
  "metadata": {
    "colab": {
      "name": "CarRacing.ipynb",
      "provenance": [],
      "collapsed_sections": [],
      "machine_shape": "hm",
      "authorship_tag": "ABX9TyN7VfV5pGeuukNcAi5kx0Ul",
      "include_colab_link": true
    },
    "kernelspec": {
      "name": "python3",
      "display_name": "Python 3"
    },
    "language_info": {
      "name": "python"
    },
    "accelerator": "GPU"
  },
  "cells": [
    {
      "cell_type": "markdown",
      "metadata": {
        "id": "view-in-github",
        "colab_type": "text"
      },
      "source": [
        "<a href=\"https://colab.research.google.com/github/sugiyama404/ReinforcementLearningForGymOrAtari/blob/main/Control/CarRacing.ipynb\" target=\"_parent\"><img src=\"https://colab.research.google.com/assets/colab-badge.svg\" alt=\"Open In Colab\"/></a>"
      ]
    },
    {
      "cell_type": "code",
      "metadata": {
        "id": "c8bCDqyTz9Wp",
        "colab": {
          "base_uri": "https://localhost:8080/"
        },
        "outputId": "1274360b-dd22-43a6-c1d8-86cf2a2ba8fa"
      },
      "source": [
        "!pip uninstall gym -y # gym 0.17.3 was broken 2021/11/08\n",
        "!pip install gym gym[box2d]  > /dev/null 2>&1"
      ],
      "execution_count": 1,
      "outputs": [
        {
          "output_type": "stream",
          "name": "stdout",
          "text": [
            "Found existing installation: gym 0.21.0\n",
            "Uninstalling gym-0.21.0:\n",
            "  Successfully uninstalled gym-0.21.0\n"
          ]
        }
      ]
    },
    {
      "cell_type": "code",
      "metadata": {
        "id": "Cck23Zda0D63",
        "colab": {
          "base_uri": "https://localhost:8080/"
        },
        "outputId": "c7688bba-660e-480d-cd2d-9f655ef602ca"
      },
      "source": [
        "import gym\n",
        "from gym import wrappers\n",
        "\n",
        "import numpy as np\n",
        "import random\n",
        "\n",
        "\n",
        "!apt update  > /dev/null 2>&1\n",
        "!apt install xvfb  > /dev/null 2>&1\n",
        "!pip install pyvirtualdisplay  > /dev/null 2>&1\n",
        "from pyvirtualdisplay import Display\n",
        "d = Display()\n",
        "d.start()"
      ],
      "execution_count": 2,
      "outputs": [
        {
          "output_type": "execute_result",
          "data": {
            "text/plain": [
              "<pyvirtualdisplay.display.Display at 0x7f9d314fecd0>"
            ]
          },
          "metadata": {},
          "execution_count": 2
        }
      ]
    },
    {
      "cell_type": "code",
      "metadata": {
        "colab": {
          "base_uri": "https://localhost:8080/"
        },
        "id": "Etb_iBrX0Dhr",
        "outputId": "fc8b2813-4cc4-40e2-988e-c8f7a4c4c0db"
      },
      "source": [
        "gym.logger.set_level(40)\n",
        "env = gym.make('CarRacing-v0')\n",
        "\n",
        "env = wrappers.Monitor(env, './', force=True, video_callable=(lambda ep: ep % 10 == 0))\n",
        "episodes = 50\n",
        "actions = np.array([[ 0, 0, 0],  # [0]: straight\n",
        "                    [ 0, 1, 0],  # [1]: acceleration\n",
        "                    [ 0, 0, 1],  # [2]: decelerate\n",
        "                    [ 1, 0, 0],  # [3]: Turn right\n",
        "                    [-1, 0, 0]]) # [4]: Turn left\n",
        "for episode in range(1, episodes+1):\n",
        "    state = env.reset()\n",
        "    done = False\n",
        "    score = 0 \n",
        "    \n",
        "    while not done:\n",
        "        #env.render()\n",
        "        rand = np.random.randint(5)\n",
        "        action = actions[rand]\n",
        "        n_state, reward, done, info = env.step(action) # n_state.shape: (96, 96, 3)\n",
        "        score+=reward\n",
        "    print('Episode:{} Score:{}'.format(episode, score))\n",
        "env.close()"
      ],
      "execution_count": 3,
      "outputs": [
        {
          "output_type": "stream",
          "name": "stdout",
          "text": [
            "Track generation: 1061..1339 -> 278-tiles track\n",
            "Episode:1 Score:-56.67870036101161\n",
            "Track generation: 1243..1558 -> 315-tiles track\n",
            "Episode:2 Score:-58.59872611465053\n",
            "Track generation: 1289..1616 -> 327-tiles track\n",
            "Episode:3 Score:-60.12269938650396\n",
            "Track generation: 991..1248 -> 257-tiles track\n",
            "Episode:4 Score:-49.21875000000066\n",
            "Track generation: 1177..1475 -> 298-tiles track\n",
            "Episode:5 Score:-56.22895622895708\n",
            "Track generation: 1159..1452 -> 293-tiles track\n",
            "Episode:6 Score:-58.904109589041916\n",
            "Track generation: 1033..1297 -> 264-tiles track\n",
            "retry to generate track (normal if there are not manyinstances of this message)\n",
            "Track generation: 1040..1312 -> 272-tiles track\n",
            "Episode:7 Score:-52.02952029520367\n",
            "Track generation: 1172..1469 -> 297-tiles track\n",
            "Episode:8 Score:-56.081081081081855\n",
            "Track generation: 1133..1426 -> 293-tiles track\n",
            "Episode:9 Score:-58.904109589041916\n",
            "Track generation: 1169..1465 -> 296-tiles track\n",
            "Episode:10 Score:-55.93220338983135\n",
            "Track generation: 1120..1411 -> 291-tiles track\n",
            "Episode:11 Score:-58.62068965517323\n",
            "Track generation: 1207..1513 -> 306-tiles track\n",
            "Episode:12 Score:-54.09836065573846\n",
            "Track generation: 1284..1617 -> 333-tiles track\n",
            "Episode:13 Score:-63.855421686747924\n",
            "Track generation: 1175..1473 -> 298-tiles track\n",
            "Episode:14 Score:-56.228956228957045\n",
            "Track generation: 1096..1374 -> 278-tiles track\n",
            "Episode:15 Score:-45.84837545126412\n",
            "Track generation: 944..1186 -> 242-tiles track\n",
            "retry to generate track (normal if there are not manyinstances of this message)\n",
            "Track generation: 1080..1354 -> 274-tiles track\n",
            "Episode:16 Score:-52.38095238095322\n",
            "Track generation: 1227..1538 -> 311-tiles track\n",
            "Episode:17 Score:-61.29032258064606\n",
            "Track generation: 1295..1623 -> 328-tiles track\n",
            "Episode:18 Score:-57.18654434250857\n",
            "Track generation: 1263..1583 -> 320-tiles track\n",
            "Episode:19 Score:-59.247648902822235\n",
            "Track generation: 1146..1437 -> 291-tiles track\n",
            "Episode:20 Score:-58.62068965517324\n",
            "Track generation: 1150..1442 -> 292-tiles track\n",
            "Episode:21 Score:-62.199312714777506\n",
            "Track generation: 1132..1427 -> 295-tiles track\n",
            "Episode:22 Score:-52.38095238095327\n",
            "Track generation: 1128..1414 -> 286-tiles track\n",
            "Episode:23 Score:-47.36842105263236\n",
            "Track generation: 1246..1570 -> 324-tiles track\n",
            "Episode:24 Score:-62.84829721362316\n",
            "Track generation: 1141..1430 -> 289-tiles track\n",
            "Episode:25 Score:-61.805555555556474\n",
            "Track generation: 1239..1553 -> 314-tiles track\n",
            "Episode:26 Score:-55.2715654952084\n",
            "Track generation: 964..1215 -> 251-tiles track\n",
            "Episode:27 Score:-44.000000000000604\n",
            "Track generation: 1095..1377 -> 282-tiles track\n",
            "Episode:28 Score:-46.61921708185119\n",
            "Track generation: 1179..1478 -> 299-tiles track\n",
            "Episode:29 Score:-59.73154362416197\n",
            "Track generation: 1256..1574 -> 318-tiles track\n",
            "Episode:30 Score:-58.99053627760336\n",
            "Track generation: 1252..1569 -> 317-tiles track\n",
            "Episode:31 Score:-52.53164556962099\n",
            "Track generation: 1228..1539 -> 311-tiles track\n",
            "Episode:32 Score:-54.83870967742014\n",
            "Track generation: 1046..1312 -> 266-tiles track\n",
            "Episode:33 Score:-54.716981132076285\n",
            "Track generation: 1240..1555 -> 315-tiles track\n",
            "Episode:34 Score:-61.78343949044675\n",
            "Track generation: 1095..1377 -> 282-tiles track\n",
            "Episode:35 Score:-50.17793594306128\n",
            "Track generation: 1076..1352 -> 276-tiles track\n",
            "retry to generate track (normal if there are not manyinstances of this message)\n",
            "Track generation: 1071..1343 -> 272-tiles track\n",
            "Episode:36 Score:-48.339483394834694\n",
            "Track generation: 1104..1384 -> 280-tiles track\n",
            "Episode:37 Score:-49.82078853046666\n",
            "Track generation: 1036..1304 -> 268-tiles track\n",
            "Episode:38 Score:-43.820224719101766\n",
            "Track generation: 1212..1519 -> 307-tiles track\n",
            "Episode:39 Score:-50.980392156863466\n",
            "Track generation: 1022..1286 -> 264-tiles track\n",
            "retry to generate track (normal if there are not manyinstances of this message)\n",
            "Track generation: 1110..1392 -> 282-tiles track\n",
            "Episode:40 Score:-50.1779359430613\n",
            "Track generation: 1375..1723 -> 348-tiles track\n",
            "Episode:41 Score:-65.4178674351593\n",
            "Track generation: 1198..1501 -> 303-tiles track\n",
            "Episode:42 Score:-56.95364238410675\n",
            "Track generation: 1267..1588 -> 321-tiles track\n",
            "Episode:43 Score:-59.37500000000081\n",
            "Track generation: 1081..1355 -> 274-tiles track\n",
            "Episode:44 Score:-56.04395604395677\n",
            "Track generation: 1019..1278 -> 259-tiles track\n",
            "Episode:45 Score:-53.488372093024054\n",
            "Track generation: 1094..1376 -> 282-tiles track\n",
            "retry to generate track (normal if there are not manyinstances of this message)\n",
            "Track generation: 991..1250 -> 259-tiles track\n",
            "Episode:46 Score:-53.488372093024005\n",
            "Track generation: 1087..1362 -> 275-tiles track\n",
            "Episode:47 Score:-48.90510948905174\n",
            "Track generation: 1204..1509 -> 305-tiles track\n",
            "Episode:48 Score:-60.5263157894746\n",
            "Track generation: 1177..1481 -> 304-tiles track\n",
            "Episode:49 Score:-53.79537953795461\n",
            "Track generation: 1198..1502 -> 304-tiles track\n",
            "Episode:50 Score:-53.795379537954645\n"
          ]
        }
      ]
    }
  ]
}