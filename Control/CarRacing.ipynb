{
  "nbformat": 4,
  "nbformat_minor": 0,
  "metadata": {
    "colab": {
      "name": "CarRacing.ipynb",
      "provenance": [],
      "collapsed_sections": [],
      "machine_shape": "hm",
      "authorship_tag": "ABX9TyOJ8GOJmGVt4hbuBiTVo1qe",
      "include_colab_link": true
    },
    "kernelspec": {
      "name": "python3",
      "display_name": "Python 3"
    },
    "language_info": {
      "name": "python"
    },
    "accelerator": "GPU"
  },
  "cells": [
    {
      "cell_type": "markdown",
      "metadata": {
        "id": "view-in-github",
        "colab_type": "text"
      },
      "source": [
        "<a href=\"https://colab.research.google.com/github/sugiyama404/ReinforcementLearningForGymOrAtari/blob/main/Control/CarRacing.ipynb\" target=\"_parent\"><img src=\"https://colab.research.google.com/assets/colab-badge.svg\" alt=\"Open In Colab\"/></a>"
      ]
    },
    {
      "cell_type": "code",
      "metadata": {
        "id": "c8bCDqyTz9Wp"
      },
      "source": [
        "!pip install gym gym[box2d]  > /dev/null 2>&1"
      ],
      "execution_count": 1,
      "outputs": []
    },
    {
      "cell_type": "code",
      "metadata": {
        "id": "Cck23Zda0D63",
        "colab": {
          "base_uri": "https://localhost:8080/"
        },
        "outputId": "2531bad9-e6e8-4cba-cdbd-ff108addc023"
      },
      "source": [
        "import gym\n",
        "from gym import wrappers\n",
        "\n",
        "import numpy as np\n",
        "import random\n",
        "\n",
        "\n",
        "!apt update  > /dev/null 2>&1\n",
        "!apt install xvfb  > /dev/null 2>&1\n",
        "!pip install pyvirtualdisplay  > /dev/null 2>&1\n",
        "from pyvirtualdisplay import Display\n",
        "d = Display()\n",
        "d.start()"
      ],
      "execution_count": 2,
      "outputs": [
        {
          "output_type": "execute_result",
          "data": {
            "text/plain": [
              "<pyvirtualdisplay.display.Display at 0x7ff6fa530f90>"
            ]
          },
          "metadata": {},
          "execution_count": 2
        }
      ]
    },
    {
      "cell_type": "code",
      "metadata": {
        "colab": {
          "base_uri": "https://localhost:8080/"
        },
        "id": "Etb_iBrX0Dhr",
        "outputId": "fb34b011-59c1-4891-db54-a1a8357db698"
      },
      "source": [
        "gym.logger.set_level(40)\n",
        "env = gym.make('CarRacing-v0')\n",
        "\n",
        "env = wrappers.Monitor(env, './', force=True, video_callable=(lambda ep: ep % 10 == 0))\n",
        "episodes = 20\n",
        "actions = np.array([[ 0, 0, 0],  # [0]: straight\n",
        "                    [ 0, 1, 0],  # [1]: acceleration\n",
        "                    [ 0, 0, 1],  # [2]: decelerate\n",
        "                    [ 1, 0, 0],  # [3]: Turn right\n",
        "                    [-1, 0, 0]]) # [4]: Turn left\n",
        "for episode in range(1, episodes+1):\n",
        "    state = env.reset()\n",
        "    done = False\n",
        "    score = 0 \n",
        "    \n",
        "    while not done:\n",
        "        env.render()\n",
        "        rand = np.random.randint(5)\n",
        "        action = actions[rand]\n",
        "        n_state, reward, done, info = env.step(action) # n_state.shape: (96, 96, 3)\n",
        "        score+=reward\n",
        "    print('Episode:{} Score:{}'.format(episode, score))\n",
        "env.close()"
      ],
      "execution_count": 3,
      "outputs": [
        {
          "output_type": "stream",
          "name": "stdout",
          "text": [
            "Track generation: 1065..1335 -> 270-tiles track\n",
            "Episode:1 Score:-55.39033457249146\n",
            "Track generation: 1090..1369 -> 279-tiles track\n",
            "retry to generate track (normal if there are not manyinstances of this message)\n",
            "Track generation: 1060..1331 -> 271-tiles track\n",
            "retry to generate track (normal if there are not manyinstances of this message)\n",
            "Track generation: 1112..1394 -> 282-tiles track\n",
            "Episode:2 Score:-53.736654804271204\n",
            "Track generation: 1365..1710 -> 345-tiles track\n",
            "Episode:3 Score:-62.20930232558219\n",
            "Track generation: 1048..1314 -> 266-tiles track\n",
            "Episode:4 Score:-50.94339622641582\n",
            "Track generation: 1214..1522 -> 308-tiles track\n",
            "Episode:5 Score:-57.65472312703675\n",
            "Track generation: 1112..1410 -> 298-tiles track\n",
            "Episode:6 Score:-52.86195286195362\n",
            "Track generation: 1151..1452 -> 301-tiles track\n",
            "Episode:7 Score:-56.666666666667496\n",
            "Track generation: 1155..1452 -> 297-tiles track\n",
            "Episode:8 Score:-56.081081081081905\n",
            "Track generation: 1156..1449 -> 293-tiles track\n",
            "Episode:9 Score:-58.904109589041944\n",
            "Track generation: 1240..1554 -> 314-tiles track\n",
            "Episode:10 Score:-61.661341853036014\n",
            "Track generation: 1323..1658 -> 335-tiles track\n",
            "Episode:11 Score:-55.08982035928229\n",
            "Track generation: 1148..1439 -> 291-tiles track\n",
            "Episode:12 Score:-58.62068965517323\n",
            "Track generation: 1097..1379 -> 282-tiles track\n",
            "retry to generate track (normal if there are not manyinstances of this message)\n",
            "Track generation: 1057..1325 -> 268-tiles track\n",
            "Episode:13 Score:-47.565543071161756\n",
            "Track generation: 1271..1593 -> 322-tiles track\n",
            "Episode:14 Score:-62.6168224299074\n",
            "Track generation: 1089..1365 -> 276-tiles track\n",
            "Episode:15 Score:-60.00000000000087\n",
            "Track generation: 1191..1493 -> 302-tiles track\n",
            "Episode:16 Score:-60.13289036544936\n",
            "Track generation: 1383..1733 -> 350-tiles track\n",
            "Episode:17 Score:-59.885386819485156\n",
            "Track generation: 967..1219 -> 252-tiles track\n",
            "Episode:18 Score:-44.22310756972175\n",
            "Track generation: 1239..1553 -> 314-tiles track\n",
            "Episode:19 Score:-61.661341853036056\n",
            "Track generation: 1088..1369 -> 281-tiles track\n",
            "Episode:20 Score:-53.571428571429365\n"
          ]
        }
      ]
    }
  ]
}