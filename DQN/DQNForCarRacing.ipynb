{
  "nbformat": 4,
  "nbformat_minor": 0,
  "metadata": {
    "colab": {
      "name": "DQNForCarRacing.ipynb",
      "provenance": [],
      "collapsed_sections": [],
      "machine_shape": "hm",
      "authorship_tag": "ABX9TyOEy474Wwrf0UuvNV/nGszx",
      "include_colab_link": true
    },
    "kernelspec": {
      "name": "python3",
      "display_name": "Python 3"
    },
    "language_info": {
      "name": "python"
    },
    "accelerator": "GPU"
  },
  "cells": [
    {
      "cell_type": "markdown",
      "metadata": {
        "id": "view-in-github",
        "colab_type": "text"
      },
      "source": [
        "<a href=\"https://colab.research.google.com/github/sugiyama404/ReinforcementLearningForGymOrAtari/blob/main/DQN/DQNForCarRacing.ipynb\" target=\"_parent\"><img src=\"https://colab.research.google.com/assets/colab-badge.svg\" alt=\"Open In Colab\"/></a>"
      ]
    },
    {
      "cell_type": "code",
      "metadata": {
        "id": "c8bCDqyTz9Wp"
      },
      "source": [
        "!pip uninstall gym -y  > /dev/null 2>&1 # gym 0.17.3 was broken 2021/11/08\n",
        "!pip install gym gym[box2d] tensorflow_addons > /dev/null 2>&1"
      ],
      "execution_count": 1,
      "outputs": []
    },
    {
      "cell_type": "code",
      "metadata": {
        "id": "Cck23Zda0D63",
        "colab": {
          "base_uri": "https://localhost:8080/"
        },
        "outputId": "6d04bb24-ba3a-480f-b44d-bcda7abda0fd"
      },
      "source": [
        "import gym\n",
        "from gym import wrappers\n",
        "\n",
        "import numpy as np\n",
        "import pandas as pd\n",
        "import time\n",
        "from datetime import datetime\n",
        "import random\n",
        "import copy\n",
        "\n",
        "import tensorflow as tf\n",
        "from tensorflow import keras\n",
        "from tensorflow.keras import Model, Sequential\n",
        "from tensorflow.keras.optimizers import Adam\n",
        "from tensorflow.keras.layers import Dense, ReLU, Input, Lambda, Conv2D, Flatten, Activation\n",
        "from tensorflow.keras.losses import Huber\n",
        "from sklearn.preprocessing import StandardScaler\n",
        "import tensorflow_addons as tfa\n",
        "from tensorflow_addons.optimizers import RectifiedAdam\n",
        "\n",
        "from dataclasses import dataclass\n",
        "\n",
        "from tensorflow.keras.utils import Progbar\n",
        "\n",
        "import math\n",
        "from time import sleep\n",
        "\n",
        "\n",
        "\n",
        "!apt update  > /dev/null 2>&1\n",
        "!apt install xvfb  > /dev/null 2>&1\n",
        "!pip install pyvirtualdisplay  > /dev/null 2>&1\n",
        "from pyvirtualdisplay import Display\n",
        "d = Display()\n",
        "d.start()"
      ],
      "execution_count": 2,
      "outputs": [
        {
          "output_type": "execute_result",
          "data": {
            "text/plain": [
              "<pyvirtualdisplay.display.Display at 0x7f75c7be4390>"
            ]
          },
          "metadata": {},
          "execution_count": 2
        }
      ]
    },
    {
      "cell_type": "code",
      "metadata": {
        "id": "K7Uu6qVSfPgq"
      },
      "source": [
        "class ReplayMemory:\n",
        "    def __init__(self, max_size=500, batch_size=32):\n",
        "\n",
        "        self.cntr = 0\n",
        "        self.size = 0\n",
        "        self.max_size = max_size\n",
        "        self.batch_size = batch_size\n",
        "        self.states_memory = np.zeros([self.max_size, 96, 96, 3], dtype=np.float32)\n",
        "        self.next_states_memory = np.zeros([self.max_size, 96, 96, 3], dtype=np.float32)\n",
        "        self.acts_memory = np.zeros(self.max_size, dtype=np.uint8)\n",
        "        self.rewards_memory = np.zeros(self.max_size, dtype=np.float32)\n",
        "        self.done_memory = np.zeros(self.max_size, dtype=np.uint8)\n",
        "\n",
        "    def store_transition(self, state, act, reward, next_state, done):\n",
        "        self.states_memory[self.cntr] = state\n",
        "        self.next_states_memory[self.cntr] = next_state\n",
        "        self.acts_memory[self.cntr] = act\n",
        "        self.rewards_memory[self.cntr] = reward\n",
        "        self.done_memory[self.cntr] = done\n",
        "        self.cntr = (self.cntr+1) % self.max_size\n",
        "        self.size = min(self.size+1, self.max_size)\n",
        "\n",
        "    def random_sampling(self):\n",
        "        mb_index = np.random.choice(self.size, self.batch_size, replace=False)\n",
        "        key = ['state','next_state','act','reward','done']\n",
        "        value = [self.states_memory[mb_index],self.next_states_memory[mb_index],\n",
        "                 self.acts_memory[mb_index],self.rewards_memory[mb_index],\n",
        "                 self.done_memory[mb_index]]\n",
        "        dict1=dict(zip(key,value))\n",
        "\n",
        "        return dict1"
      ],
      "execution_count": 3,
      "outputs": []
    },
    {
      "cell_type": "code",
      "metadata": {
        "id": "E_w4KpivfsFx"
      },
      "source": [
        "class Brain:\n",
        "    def __init__(self):\n",
        "\n",
        "        obs_shape = (96, 96, 3)\n",
        "        nb_actions = 5\n",
        "        opt = RectifiedAdam(learning_rate=0.001, epsilon=0.001)\n",
        "        loss = Huber()\n",
        "        model = Sequential()\n",
        "        model.add(Conv2D(16, kernel_size=(16, 16), strides=(2, 2), activation='relu', input_shape=obs_shape))\n",
        "        model.add(Conv2D(32, kernel_size=(8, 8), strides=(2, 2), activation='relu'))\n",
        "        model.add(Flatten())\n",
        "        model.add(Dense(256))\n",
        "        model.add(Dense(nb_actions))\n",
        "        model.compile(loss = loss, optimizer = opt)\n",
        "        model.summary()\n",
        "        self.model = model"
      ],
      "execution_count": 4,
      "outputs": []
    },
    {
      "cell_type": "code",
      "metadata": {
        "id": "rQlfcKQTjVSk"
      },
      "source": [
        "class Agent(Brain, ReplayMemory):\n",
        "    def __init__(self, max_size=500, batch_size=32):\n",
        "        self.gamma = 0.95\n",
        "        self.epsilon = 1.0\n",
        "        self.epsilon_min = 0.01\n",
        "        self.r = 0.995\n",
        "        self.batch_size = batch_size\n",
        "        Brain.__init__(self)\n",
        "        ReplayMemory.__init__(self, max_size, batch_size)\n",
        "\n",
        "    def update_replay_memory(self, state, action, reward, next_state, done):\n",
        "        self.store_transition(state, action, reward, next_state, done)\n",
        "\n",
        "    def act(self, state):\n",
        "        if np.random.rand() <= self.epsilon:\n",
        "            return np.random.choice(5)\n",
        "        state = np.array([state])\n",
        "        act_values = self.model.predict(state) # state (96, 96, 3)\n",
        "        return np.argmax(act_values[0])\n",
        "\n",
        "    def replay(self):\n",
        "        if self.size < self.batch_size:\n",
        "            return\n",
        "\n",
        "        m_batch = self.random_sampling()\n",
        "        states, next_states, actions, rewards, done = m_batch['state'], m_batch['next_state'], m_batch['act'], m_batch['reward'], m_batch['done']\n",
        "        target = rewards + (1 - done) * self.gamma * np.amax(self.model.predict(next_states), axis=1)\n",
        "\n",
        "        target_full = self.model.predict(states)\n",
        "\n",
        "        target_full[np.arange(self.batch_size), actions] = target\n",
        "        self.model.train_on_batch(states, target_full)\n",
        "\n",
        "        if self.epsilon > self.epsilon_min:\n",
        "            self.epsilon *= self.r\n",
        "\n",
        "    def load(self, name):\n",
        "        self.model.load_weights(name)\n",
        "\n",
        "    def save(self, name):\n",
        "        self.model.save_weights(name)"
      ],
      "execution_count": 5,
      "outputs": []
    },
    {
      "cell_type": "code",
      "metadata": {
        "id": "X87VfGW-jfMY"
      },
      "source": [
        "class Main:\n",
        "    def __init__(self, env, agent, episodes_times = 1000):\n",
        "        self.env = env\n",
        "        self.agent = agent\n",
        "        self.episodes_times = episodes_times\n",
        "\n",
        "    def play_game(self):\n",
        "        for episode in range(self.episodes_times):\n",
        "\n",
        "            if (episode % 10 == 0):\n",
        "                metrics_names = ['score']\n",
        "                if (int(str(self.episodes_times)[:-1])*10 == episode):\n",
        "                    pb_i = Progbar(int(str(self.episodes_times)[-1]), stateful_metrics=metrics_names)\n",
        "                else:\n",
        "                    pb_i = Progbar(10, stateful_metrics=metrics_names)\n",
        "                score_mean = np.array([])\n",
        "\n",
        "            state = self.env.reset()\n",
        "            done = False\n",
        "            score = 0\n",
        "    \n",
        "            while not done:\n",
        "                self.env.render()              \n",
        "                action = self.agent.act(state)\n",
        "                tmp_action = self._action_clipping(action)\n",
        "                next_state, reward, done, info = self.env.step(tmp_action)\n",
        "                score += reward\n",
        "\n",
        "                self.agent.update_replay_memory(state, action, reward, next_state, done)\n",
        "                self.agent.replay()\n",
        "\n",
        "                state = next_state\n",
        "\n",
        "            score_mean = np.append(score_mean, score)\n",
        "            values = [('score',np.mean(score_mean))]\n",
        "            pb_i.add(1, values=values)\n",
        "\n",
        "        self.env.close()\n",
        "\n",
        "    def _action_clipping(self, val):\n",
        "        actions = np.array([[ 0, 0, 0],  # [0]: straight\n",
        "                            [ 0, 1, 0],  # [1]: acceleration\n",
        "                            [ 0, 0, 1],  # [2]: decelerate\n",
        "                            [ 1, 0, 0],  # [3]: Turn right\n",
        "                            [-1, 0, 0]]) # [4]: Turn left\n",
        "        return actions[val]"
      ],
      "execution_count": 6,
      "outputs": []
    },
    {
      "cell_type": "code",
      "metadata": {
        "id": "DKMdTkC0kB58",
        "colab": {
          "base_uri": "https://localhost:8080/"
        },
        "outputId": "3987112a-ff19-4444-f85d-f7ca6f097a84"
      },
      "source": [
        "episodes_times = 300\n",
        "batch_size = 32\n",
        "max_size = 500\n",
        "\n",
        "agent = Agent(max_size, batch_size)\n",
        "gym.logger.set_level(40)\n",
        "env = gym.make('CarRacing-v0')\n",
        "env.unwrapped.verbose = 0\n",
        "env = wrappers.Monitor(env, './', force=True, video_callable=(lambda ep: ep % 25 == 0))\n",
        "main = Main(env, agent, episodes_times)\n",
        "main.play_game()"
      ],
      "execution_count": 7,
      "outputs": [
        {
          "output_type": "stream",
          "name": "stdout",
          "text": [
            "Model: \"sequential\"\n",
            "_________________________________________________________________\n",
            " Layer (type)                Output Shape              Param #   \n",
            "=================================================================\n",
            " conv2d (Conv2D)             (None, 41, 41, 16)        12304     \n",
            "                                                                 \n",
            " conv2d_1 (Conv2D)           (None, 17, 17, 32)        32800     \n",
            "                                                                 \n",
            " flatten (Flatten)           (None, 9248)              0         \n",
            "                                                                 \n",
            " dense (Dense)               (None, 256)               2367744   \n",
            "                                                                 \n",
            " dense_1 (Dense)             (None, 5)                 1285      \n",
            "                                                                 \n",
            "=================================================================\n",
            "Total params: 2,414,133\n",
            "Trainable params: 2,414,133\n",
            "Non-trainable params: 0\n",
            "_________________________________________________________________\n",
            "10/10 [==============================] - 1373s 136s/step - score: -52.2500\n",
            "10/10 [==============================] - 1381s 138s/step - score: -54.2442\n",
            "10/10 [==============================] - 1088s 118s/step - score: -40.8842\n",
            "10/10 [==============================] - 1330s 132s/step - score: -66.3949\n",
            "10/10 [==============================] - 1244s 123s/step - score: -45.4551\n",
            "10/10 [==============================] - 1329s 131s/step - score: -46.8026\n",
            "10/10 [==============================] - 1404s 141s/step - score: -55.9620\n",
            "10/10 [==============================] - 1416s 142s/step - score: -57.2552\n",
            "10/10 [==============================] - 1397s 140s/step - score: -52.4843\n",
            "10/10 [==============================] - 1281s 127s/step - score: -44.7161\n",
            "10/10 [==============================] - 1191s 116s/step - score: -27.3894\n",
            "10/10 [==============================] - 1328s 132s/step - score: -58.6116\n",
            "10/10 [==============================] - 1252s 124s/step - score: -57.7848\n",
            "10/10 [==============================] - 1155s 113s/step - score: -20.8771\n",
            "10/10 [==============================] - 1142s 114s/step - score: -36.5970\n",
            "10/10 [==============================] - 1110s 107s/step - score: -20.0827\n",
            "10/10 [==============================] - 1376s 138s/step - score: -40.2469\n",
            "10/10 [==============================] - 1293s 128s/step - score: -36.0244\n",
            "10/10 [==============================] - 1167s 114s/step - score: -23.0807\n",
            "10/10 [==============================] - 1128s 110s/step - score: -37.3018\n",
            "10/10 [==============================] - 861s 80s/step - score: -9.6931\n",
            "10/10 [==============================] - 1159s 113s/step - score: -31.3794\n",
            "10/10 [==============================] - 1387s 139s/step - score: -46.0576\n",
            "10/10 [==============================] - 1310s 130s/step - score: -52.6573\n",
            "10/10 [==============================] - 1267s 125s/step - score: -31.4203\n",
            "10/10 [==============================] - 1338s 132s/step - score: -34.8754\n",
            "10/10 [==============================] - 1375s 137s/step - score: -41.8539\n",
            "10/10 [==============================] - 1210s 128s/step - score: -26.4089\n",
            "10/10 [==============================] - 1357s 135s/step - score: -62.3072\n",
            "10/10 [==============================] - 1317s 131s/step - score: -39.3856\n"
          ]
        }
      ]
    }
  ]
}